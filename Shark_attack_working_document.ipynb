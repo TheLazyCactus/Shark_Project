{
 "cells": [
  {
   "cell_type": "code",
   "execution_count": 2,
   "metadata": {
    "colab": {
     "base_uri": "https://localhost:8080/"
    },
    "executionInfo": {
     "elapsed": 1379,
     "status": "ok",
     "timestamp": 1730727783998,
     "user": {
      "displayName": "Valentin Perraud",
      "userId": "01510183611310103751"
     },
     "user_tz": -60
    },
    "id": "1MQ22VPkVpbG",
    "outputId": "cc668d66-a1af-4025-b33c-b426aac2fe3f"
   },
   "outputs": [],
   "source": [
    "import pandas as pd\n",
    "import numpy as np\n",
    "url = 'https://raw.githubusercontent.com/TheLazyCactus/Shark_Project/refs/heads/main/GSAF5.csv'\n",
    "shark_data = pd.read_csv(url, sep=\";\", low_memory =False)"
   ]
  },
  {
   "cell_type": "code",
   "execution_count": 3,
   "metadata": {},
   "outputs": [
    {
     "data": {
      "text/html": [
       "<div>\n",
       "<style scoped>\n",
       "    .dataframe tbody tr th:only-of-type {\n",
       "        vertical-align: middle;\n",
       "    }\n",
       "\n",
       "    .dataframe tbody tr th {\n",
       "        vertical-align: top;\n",
       "    }\n",
       "\n",
       "    .dataframe thead th {\n",
       "        text-align: right;\n",
       "    }\n",
       "</style>\n",
       "<table border=\"1\" class=\"dataframe\">\n",
       "  <thead>\n",
       "    <tr style=\"text-align: right;\">\n",
       "      <th></th>\n",
       "      <th>Date</th>\n",
       "      <th>Year</th>\n",
       "      <th>Type</th>\n",
       "      <th>Country</th>\n",
       "      <th>State</th>\n",
       "      <th>Location</th>\n",
       "      <th>Activity</th>\n",
       "      <th>Name</th>\n",
       "      <th>Sex</th>\n",
       "      <th>Age</th>\n",
       "      <th>...</th>\n",
       "      <th>Unnamed: 245</th>\n",
       "      <th>Unnamed: 246</th>\n",
       "      <th>Unnamed: 247</th>\n",
       "      <th>Unnamed: 248</th>\n",
       "      <th>Unnamed: 249</th>\n",
       "      <th>Unnamed: 250</th>\n",
       "      <th>Unnamed: 251</th>\n",
       "      <th>Unnamed: 252</th>\n",
       "      <th>Unnamed: 253</th>\n",
       "      <th>Unnamed: 254</th>\n",
       "    </tr>\n",
       "  </thead>\n",
       "  <tbody>\n",
       "    <tr>\n",
       "      <th>0</th>\n",
       "      <td>14-oct-24</td>\n",
       "      <td>2024</td>\n",
       "      <td>Unprovoked</td>\n",
       "      <td>Honduras</td>\n",
       "      <td>Tela</td>\n",
       "      <td>Atlantida</td>\n",
       "      <td>Swimming</td>\n",
       "      <td>Roberto Carlose Bu Mejia</td>\n",
       "      <td>M</td>\n",
       "      <td>38</td>\n",
       "      <td>...</td>\n",
       "      <td>NaN</td>\n",
       "      <td>NaN</td>\n",
       "      <td>NaN</td>\n",
       "      <td>NaN</td>\n",
       "      <td>NaN</td>\n",
       "      <td>NaN</td>\n",
       "      <td>NaN</td>\n",
       "      <td>NaN</td>\n",
       "      <td>NaN</td>\n",
       "      <td>NaN</td>\n",
       "    </tr>\n",
       "    <tr>\n",
       "      <th>1</th>\n",
       "      <td>11-oct-24</td>\n",
       "      <td>2024</td>\n",
       "      <td>Unprovoked</td>\n",
       "      <td>USA</td>\n",
       "      <td>Florida</td>\n",
       "      <td>Brevard County Orlando</td>\n",
       "      <td>Surfing</td>\n",
       "      <td>Teddy Witteman</td>\n",
       "      <td>M</td>\n",
       "      <td>16</td>\n",
       "      <td>...</td>\n",
       "      <td>NaN</td>\n",
       "      <td>NaN</td>\n",
       "      <td>NaN</td>\n",
       "      <td>NaN</td>\n",
       "      <td>NaN</td>\n",
       "      <td>NaN</td>\n",
       "      <td>NaN</td>\n",
       "      <td>NaN</td>\n",
       "      <td>NaN</td>\n",
       "      <td>NaN</td>\n",
       "    </tr>\n",
       "    <tr>\n",
       "      <th>2</th>\n",
       "      <td>17-sept-24</td>\n",
       "      <td>2024</td>\n",
       "      <td>Unprovoked</td>\n",
       "      <td>Honduras</td>\n",
       "      <td>Trujillo Colon</td>\n",
       "      <td>Puerto Castillo</td>\n",
       "      <td>Diving for shellfish</td>\n",
       "      <td>Fernando Mendoza Ocampo</td>\n",
       "      <td>M</td>\n",
       "      <td>33</td>\n",
       "      <td>...</td>\n",
       "      <td>NaN</td>\n",
       "      <td>NaN</td>\n",
       "      <td>NaN</td>\n",
       "      <td>NaN</td>\n",
       "      <td>NaN</td>\n",
       "      <td>NaN</td>\n",
       "      <td>NaN</td>\n",
       "      <td>NaN</td>\n",
       "      <td>NaN</td>\n",
       "      <td>NaN</td>\n",
       "    </tr>\n",
       "    <tr>\n",
       "      <th>3</th>\n",
       "      <td>16-sept-24</td>\n",
       "      <td>2024</td>\n",
       "      <td>Unprovoked</td>\n",
       "      <td>Morocco</td>\n",
       "      <td>Southern Morocco</td>\n",
       "      <td>West of Dakhla</td>\n",
       "      <td>Swimming - jumped off yacht</td>\n",
       "      <td>German Tourist</td>\n",
       "      <td>F</td>\n",
       "      <td>30</td>\n",
       "      <td>...</td>\n",
       "      <td>NaN</td>\n",
       "      <td>NaN</td>\n",
       "      <td>NaN</td>\n",
       "      <td>NaN</td>\n",
       "      <td>NaN</td>\n",
       "      <td>NaN</td>\n",
       "      <td>NaN</td>\n",
       "      <td>NaN</td>\n",
       "      <td>NaN</td>\n",
       "      <td>NaN</td>\n",
       "    </tr>\n",
       "    <tr>\n",
       "      <th>4</th>\n",
       "      <td>26-août-24</td>\n",
       "      <td>2024</td>\n",
       "      <td>Unprovoked</td>\n",
       "      <td>Jamaica</td>\n",
       "      <td>Montego Bay</td>\n",
       "      <td>Falmouth</td>\n",
       "      <td>Spearfishing</td>\n",
       "      <td>Jahmari Reid</td>\n",
       "      <td>M</td>\n",
       "      <td>16</td>\n",
       "      <td>...</td>\n",
       "      <td>NaN</td>\n",
       "      <td>NaN</td>\n",
       "      <td>NaN</td>\n",
       "      <td>NaN</td>\n",
       "      <td>NaN</td>\n",
       "      <td>NaN</td>\n",
       "      <td>NaN</td>\n",
       "      <td>NaN</td>\n",
       "      <td>NaN</td>\n",
       "      <td>NaN</td>\n",
       "    </tr>\n",
       "  </tbody>\n",
       "</table>\n",
       "<p>5 rows × 255 columns</p>\n",
       "</div>"
      ],
      "text/plain": [
       "         Date  Year        Type   Country             State  \\\n",
       "0   14-oct-24  2024  Unprovoked  Honduras              Tela   \n",
       "1   11-oct-24  2024  Unprovoked       USA           Florida   \n",
       "2  17-sept-24  2024  Unprovoked  Honduras    Trujillo Colon   \n",
       "3  16-sept-24  2024  Unprovoked   Morocco  Southern Morocco   \n",
       "4  26-août-24  2024  Unprovoked   Jamaica       Montego Bay   \n",
       "\n",
       "                 Location                     Activity  \\\n",
       "0               Atlantida                     Swimming   \n",
       "1  Brevard County Orlando                      Surfing   \n",
       "2         Puerto Castillo         Diving for shellfish   \n",
       "3          West of Dakhla  Swimming - jumped off yacht   \n",
       "4                Falmouth                 Spearfishing   \n",
       "\n",
       "                       Name Sex Age  ... Unnamed: 245 Unnamed: 246  \\\n",
       "0  Roberto Carlose Bu Mejia   M  38  ...          NaN          NaN   \n",
       "1            Teddy Witteman   M  16  ...          NaN          NaN   \n",
       "2   Fernando Mendoza Ocampo   M  33  ...          NaN          NaN   \n",
       "3            German Tourist   F  30  ...          NaN          NaN   \n",
       "4              Jahmari Reid   M  16  ...          NaN          NaN   \n",
       "\n",
       "  Unnamed: 247 Unnamed: 248 Unnamed: 249 Unnamed: 250 Unnamed: 251  \\\n",
       "0          NaN          NaN          NaN          NaN          NaN   \n",
       "1          NaN          NaN          NaN          NaN          NaN   \n",
       "2          NaN          NaN          NaN          NaN          NaN   \n",
       "3          NaN          NaN          NaN          NaN          NaN   \n",
       "4          NaN          NaN          NaN          NaN          NaN   \n",
       "\n",
       "  Unnamed: 252 Unnamed: 253 Unnamed: 254  \n",
       "0          NaN          NaN          NaN  \n",
       "1          NaN          NaN          NaN  \n",
       "2          NaN          NaN          NaN  \n",
       "3          NaN          NaN          NaN  \n",
       "4          NaN          NaN          NaN  \n",
       "\n",
       "[5 rows x 255 columns]"
      ]
     },
     "execution_count": 3,
     "metadata": {},
     "output_type": "execute_result"
    }
   ],
   "source": [
    "shark_data.head()"
   ]
  },
  {
   "cell_type": "code",
   "execution_count": 4,
   "metadata": {
    "executionInfo": {
     "elapsed": 239,
     "status": "ok",
     "timestamp": 1730727788142,
     "user": {
      "displayName": "Valentin Perraud",
      "userId": "01510183611310103751"
     },
     "user_tz": -60
    },
    "id": "gdyEQUysVpbG"
   },
   "outputs": [],
   "source": [
    "#Remove all the columns and lines with NaN values only\n",
    "shark_data.dropna(axis=1, how='all',inplace=True)\n",
    "shark_data.dropna(axis=0, how='all',inplace=True)"
   ]
  },
  {
   "cell_type": "code",
   "execution_count": 5,
   "metadata": {},
   "outputs": [
    {
     "data": {
      "text/html": [
       "<div>\n",
       "<style scoped>\n",
       "    .dataframe tbody tr th:only-of-type {\n",
       "        vertical-align: middle;\n",
       "    }\n",
       "\n",
       "    .dataframe tbody tr th {\n",
       "        vertical-align: top;\n",
       "    }\n",
       "\n",
       "    .dataframe thead th {\n",
       "        text-align: right;\n",
       "    }\n",
       "</style>\n",
       "<table border=\"1\" class=\"dataframe\">\n",
       "  <thead>\n",
       "    <tr style=\"text-align: right;\">\n",
       "      <th></th>\n",
       "      <th>Date</th>\n",
       "      <th>Year</th>\n",
       "      <th>Type</th>\n",
       "      <th>Country</th>\n",
       "      <th>State</th>\n",
       "      <th>Location</th>\n",
       "      <th>Activity</th>\n",
       "      <th>Name</th>\n",
       "      <th>Sex</th>\n",
       "      <th>Age</th>\n",
       "      <th>...</th>\n",
       "      <th>Species</th>\n",
       "      <th>Source</th>\n",
       "      <th>pdf</th>\n",
       "      <th>href formula</th>\n",
       "      <th>href</th>\n",
       "      <th>Case Number</th>\n",
       "      <th>Case Number.1</th>\n",
       "      <th>original order</th>\n",
       "      <th>Unnamed: 21</th>\n",
       "      <th>Unnamed: 22</th>\n",
       "    </tr>\n",
       "  </thead>\n",
       "  <tbody>\n",
       "    <tr>\n",
       "      <th>0</th>\n",
       "      <td>14-oct-24</td>\n",
       "      <td>2024</td>\n",
       "      <td>Unprovoked</td>\n",
       "      <td>Honduras</td>\n",
       "      <td>Tela</td>\n",
       "      <td>Atlantida</td>\n",
       "      <td>Swimming</td>\n",
       "      <td>Roberto Carlose Bu Mejia</td>\n",
       "      <td>M</td>\n",
       "      <td>38</td>\n",
       "      <td>...</td>\n",
       "      <td>Bull shark</td>\n",
       "      <td>Georgienne Bradley: Daily Mail UK: FTN News.com</td>\n",
       "      <td>NaN</td>\n",
       "      <td>NaN</td>\n",
       "      <td>NaN</td>\n",
       "      <td>NaN</td>\n",
       "      <td>NaN</td>\n",
       "      <td>NaN</td>\n",
       "      <td>NaN</td>\n",
       "      <td>NaN</td>\n",
       "    </tr>\n",
       "    <tr>\n",
       "      <th>1</th>\n",
       "      <td>11-oct-24</td>\n",
       "      <td>2024</td>\n",
       "      <td>Unprovoked</td>\n",
       "      <td>USA</td>\n",
       "      <td>Florida</td>\n",
       "      <td>Brevard County Orlando</td>\n",
       "      <td>Surfing</td>\n",
       "      <td>Teddy Witteman</td>\n",
       "      <td>M</td>\n",
       "      <td>16</td>\n",
       "      <td>...</td>\n",
       "      <td>Bull shark 6ft</td>\n",
       "      <td>Todd SmithFlorida today: News 4:</td>\n",
       "      <td>NaN</td>\n",
       "      <td>NaN</td>\n",
       "      <td>NaN</td>\n",
       "      <td>NaN</td>\n",
       "      <td>NaN</td>\n",
       "      <td>NaN</td>\n",
       "      <td>NaN</td>\n",
       "      <td>NaN</td>\n",
       "    </tr>\n",
       "    <tr>\n",
       "      <th>2</th>\n",
       "      <td>17-sept-24</td>\n",
       "      <td>2024</td>\n",
       "      <td>Unprovoked</td>\n",
       "      <td>Honduras</td>\n",
       "      <td>Trujillo Colon</td>\n",
       "      <td>Puerto Castillo</td>\n",
       "      <td>Diving for shellfish</td>\n",
       "      <td>Fernando Mendoza Ocampo</td>\n",
       "      <td>M</td>\n",
       "      <td>33</td>\n",
       "      <td>...</td>\n",
       "      <td>Bull shark 6-7ft</td>\n",
       "      <td>Daily Mail UK: The Sun UK:  The World Watch</td>\n",
       "      <td>NaN</td>\n",
       "      <td>NaN</td>\n",
       "      <td>NaN</td>\n",
       "      <td>NaN</td>\n",
       "      <td>NaN</td>\n",
       "      <td>NaN</td>\n",
       "      <td>NaN</td>\n",
       "      <td>NaN</td>\n",
       "    </tr>\n",
       "    <tr>\n",
       "      <th>3</th>\n",
       "      <td>16-sept-24</td>\n",
       "      <td>2024</td>\n",
       "      <td>Unprovoked</td>\n",
       "      <td>Morocco</td>\n",
       "      <td>Southern Morocco</td>\n",
       "      <td>West of Dakhla</td>\n",
       "      <td>Swimming - jumped off yacht</td>\n",
       "      <td>German Tourist</td>\n",
       "      <td>F</td>\n",
       "      <td>30</td>\n",
       "      <td>...</td>\n",
       "      <td>Reportedly a Great White</td>\n",
       "      <td>Andy Currie: Moroccan World News: Sky News</td>\n",
       "      <td>NaN</td>\n",
       "      <td>NaN</td>\n",
       "      <td>NaN</td>\n",
       "      <td>NaN</td>\n",
       "      <td>NaN</td>\n",
       "      <td>NaN</td>\n",
       "      <td>NaN</td>\n",
       "      <td>NaN</td>\n",
       "    </tr>\n",
       "    <tr>\n",
       "      <th>4</th>\n",
       "      <td>26-août-24</td>\n",
       "      <td>2024</td>\n",
       "      <td>Unprovoked</td>\n",
       "      <td>Jamaica</td>\n",
       "      <td>Montego Bay</td>\n",
       "      <td>Falmouth</td>\n",
       "      <td>Spearfishing</td>\n",
       "      <td>Jahmari Reid</td>\n",
       "      <td>M</td>\n",
       "      <td>16</td>\n",
       "      <td>...</td>\n",
       "      <td>Reportedly Tiger Shark</td>\n",
       "      <td>Todd Smith: Daily Mail UK: Sky News: People .com</td>\n",
       "      <td>NaN</td>\n",
       "      <td>NaN</td>\n",
       "      <td>NaN</td>\n",
       "      <td>NaN</td>\n",
       "      <td>NaN</td>\n",
       "      <td>NaN</td>\n",
       "      <td>NaN</td>\n",
       "      <td>NaN</td>\n",
       "    </tr>\n",
       "  </tbody>\n",
       "</table>\n",
       "<p>5 rows × 23 columns</p>\n",
       "</div>"
      ],
      "text/plain": [
       "         Date  Year        Type   Country             State  \\\n",
       "0   14-oct-24  2024  Unprovoked  Honduras              Tela   \n",
       "1   11-oct-24  2024  Unprovoked       USA           Florida   \n",
       "2  17-sept-24  2024  Unprovoked  Honduras    Trujillo Colon   \n",
       "3  16-sept-24  2024  Unprovoked   Morocco  Southern Morocco   \n",
       "4  26-août-24  2024  Unprovoked   Jamaica       Montego Bay   \n",
       "\n",
       "                 Location                     Activity  \\\n",
       "0               Atlantida                     Swimming   \n",
       "1  Brevard County Orlando                      Surfing   \n",
       "2         Puerto Castillo         Diving for shellfish   \n",
       "3          West of Dakhla  Swimming - jumped off yacht   \n",
       "4                Falmouth                 Spearfishing   \n",
       "\n",
       "                       Name Sex Age  ...                  Species   \\\n",
       "0  Roberto Carlose Bu Mejia   M  38  ...                Bull shark   \n",
       "1            Teddy Witteman   M  16  ...            Bull shark 6ft   \n",
       "2   Fernando Mendoza Ocampo   M  33  ...          Bull shark 6-7ft   \n",
       "3            German Tourist   F  30  ...  Reportedly a Great White   \n",
       "4              Jahmari Reid   M  16  ...    Reportedly Tiger Shark   \n",
       "\n",
       "                                             Source  pdf href formula href  \\\n",
       "0   Georgienne Bradley: Daily Mail UK: FTN News.com  NaN          NaN  NaN   \n",
       "1                  Todd SmithFlorida today: News 4:  NaN          NaN  NaN   \n",
       "2       Daily Mail UK: The Sun UK:  The World Watch  NaN          NaN  NaN   \n",
       "3        Andy Currie: Moroccan World News: Sky News  NaN          NaN  NaN   \n",
       "4  Todd Smith: Daily Mail UK: Sky News: People .com  NaN          NaN  NaN   \n",
       "\n",
       "  Case Number Case Number.1 original order Unnamed: 21 Unnamed: 22  \n",
       "0         NaN           NaN            NaN         NaN         NaN  \n",
       "1         NaN           NaN            NaN         NaN         NaN  \n",
       "2         NaN           NaN            NaN         NaN         NaN  \n",
       "3         NaN           NaN            NaN         NaN         NaN  \n",
       "4         NaN           NaN            NaN         NaN         NaN  \n",
       "\n",
       "[5 rows x 23 columns]"
      ]
     },
     "execution_count": 5,
     "metadata": {},
     "output_type": "execute_result"
    }
   ],
   "source": [
    "shark_data.head()"
   ]
  },
  {
   "cell_type": "code",
   "execution_count": 7,
   "metadata": {
    "colab": {
     "base_uri": "https://localhost:8080/",
     "height": 981
    },
    "executionInfo": {
     "elapsed": 296,
     "status": "ok",
     "timestamp": 1730727816194,
     "user": {
      "displayName": "Valentin Perraud",
      "userId": "01510183611310103751"
     },
     "user_tz": -60
    },
    "id": "Max9dRBRXu_o",
    "outputId": "9d6f5bbe-c3f5-45be-c2d9-db75a2da30da"
   },
   "outputs": [
    {
     "data": {
      "text/html": [
       "<div>\n",
       "<style scoped>\n",
       "    .dataframe tbody tr th:only-of-type {\n",
       "        vertical-align: middle;\n",
       "    }\n",
       "\n",
       "    .dataframe tbody tr th {\n",
       "        vertical-align: top;\n",
       "    }\n",
       "\n",
       "    .dataframe thead th {\n",
       "        text-align: right;\n",
       "    }\n",
       "</style>\n",
       "<table border=\"1\" class=\"dataframe\">\n",
       "  <thead>\n",
       "    <tr style=\"text-align: right;\">\n",
       "      <th></th>\n",
       "      <th>Date</th>\n",
       "      <th>Year</th>\n",
       "      <th>Type</th>\n",
       "      <th>Country</th>\n",
       "      <th>State</th>\n",
       "      <th>Location</th>\n",
       "      <th>Activity</th>\n",
       "      <th>Name</th>\n",
       "      <th>Sex</th>\n",
       "      <th>Age</th>\n",
       "      <th>Injury</th>\n",
       "      <th>Unnamed: 11</th>\n",
       "      <th>Time</th>\n",
       "      <th>Species</th>\n",
       "      <th>Source</th>\n",
       "      <th>pdf</th>\n",
       "      <th>href formula</th>\n",
       "      <th>href</th>\n",
       "      <th>Case Number</th>\n",
       "    </tr>\n",
       "  </thead>\n",
       "  <tbody>\n",
       "    <tr>\n",
       "      <th>0</th>\n",
       "      <td>14-oct-24</td>\n",
       "      <td>2024</td>\n",
       "      <td>Unprovoked</td>\n",
       "      <td>Honduras</td>\n",
       "      <td>Tela</td>\n",
       "      <td>Atlantida</td>\n",
       "      <td>Swimming</td>\n",
       "      <td>Roberto Carlose Bu Mejia</td>\n",
       "      <td>M</td>\n",
       "      <td>38</td>\n",
       "      <td>Back and thigh extensive tissue loss</td>\n",
       "      <td>N</td>\n",
       "      <td>?</td>\n",
       "      <td>Bull shark</td>\n",
       "      <td>Georgienne Bradley: Daily Mail UK: FTN News.com</td>\n",
       "      <td>NaN</td>\n",
       "      <td>NaN</td>\n",
       "      <td>NaN</td>\n",
       "      <td>NaN</td>\n",
       "    </tr>\n",
       "    <tr>\n",
       "      <th>1</th>\n",
       "      <td>11-oct-24</td>\n",
       "      <td>2024</td>\n",
       "      <td>Unprovoked</td>\n",
       "      <td>USA</td>\n",
       "      <td>Florida</td>\n",
       "      <td>Brevard County Orlando</td>\n",
       "      <td>Surfing</td>\n",
       "      <td>Teddy Witteman</td>\n",
       "      <td>M</td>\n",
       "      <td>16</td>\n",
       "      <td>Bite to left arm</td>\n",
       "      <td>N</td>\n",
       "      <td>?</td>\n",
       "      <td>Bull shark 6ft</td>\n",
       "      <td>Todd SmithFlorida today: News 4:</td>\n",
       "      <td>NaN</td>\n",
       "      <td>NaN</td>\n",
       "      <td>NaN</td>\n",
       "      <td>NaN</td>\n",
       "    </tr>\n",
       "    <tr>\n",
       "      <th>2</th>\n",
       "      <td>17-sept-24</td>\n",
       "      <td>2024</td>\n",
       "      <td>Unprovoked</td>\n",
       "      <td>Honduras</td>\n",
       "      <td>Trujillo Colon</td>\n",
       "      <td>Puerto Castillo</td>\n",
       "      <td>Diving for shellfish</td>\n",
       "      <td>Fernando Mendoza Ocampo</td>\n",
       "      <td>M</td>\n",
       "      <td>33</td>\n",
       "      <td>Bite to left leg</td>\n",
       "      <td>N</td>\n",
       "      <td>?</td>\n",
       "      <td>Bull shark 6-7ft</td>\n",
       "      <td>Daily Mail UK: The Sun UK:  The World Watch</td>\n",
       "      <td>NaN</td>\n",
       "      <td>NaN</td>\n",
       "      <td>NaN</td>\n",
       "      <td>NaN</td>\n",
       "    </tr>\n",
       "    <tr>\n",
       "      <th>3</th>\n",
       "      <td>16-sept-24</td>\n",
       "      <td>2024</td>\n",
       "      <td>Unprovoked</td>\n",
       "      <td>Morocco</td>\n",
       "      <td>Southern Morocco</td>\n",
       "      <td>West of Dakhla</td>\n",
       "      <td>Swimming - jumped off yacht</td>\n",
       "      <td>German Tourist</td>\n",
       "      <td>F</td>\n",
       "      <td>30</td>\n",
       "      <td>Leg severed</td>\n",
       "      <td>Y</td>\n",
       "      <td>1600hr</td>\n",
       "      <td>Reportedly a Great White</td>\n",
       "      <td>Andy Currie: Moroccan World News: Sky News</td>\n",
       "      <td>NaN</td>\n",
       "      <td>NaN</td>\n",
       "      <td>NaN</td>\n",
       "      <td>NaN</td>\n",
       "    </tr>\n",
       "    <tr>\n",
       "      <th>4</th>\n",
       "      <td>26-août-24</td>\n",
       "      <td>2024</td>\n",
       "      <td>Unprovoked</td>\n",
       "      <td>Jamaica</td>\n",
       "      <td>Montego Bay</td>\n",
       "      <td>Falmouth</td>\n",
       "      <td>Spearfishing</td>\n",
       "      <td>Jahmari Reid</td>\n",
       "      <td>M</td>\n",
       "      <td>16</td>\n",
       "      <td>Head right arm and leg severed</td>\n",
       "      <td>Y</td>\n",
       "      <td>?</td>\n",
       "      <td>Reportedly Tiger Shark</td>\n",
       "      <td>Todd Smith: Daily Mail UK: Sky News: People .com</td>\n",
       "      <td>NaN</td>\n",
       "      <td>NaN</td>\n",
       "      <td>NaN</td>\n",
       "      <td>NaN</td>\n",
       "    </tr>\n",
       "  </tbody>\n",
       "</table>\n",
       "</div>"
      ],
      "text/plain": [
       "         Date  Year        Type   Country             State  \\\n",
       "0   14-oct-24  2024  Unprovoked  Honduras              Tela   \n",
       "1   11-oct-24  2024  Unprovoked       USA           Florida   \n",
       "2  17-sept-24  2024  Unprovoked  Honduras    Trujillo Colon   \n",
       "3  16-sept-24  2024  Unprovoked   Morocco  Southern Morocco   \n",
       "4  26-août-24  2024  Unprovoked   Jamaica       Montego Bay   \n",
       "\n",
       "                 Location                     Activity  \\\n",
       "0               Atlantida                     Swimming   \n",
       "1  Brevard County Orlando                      Surfing   \n",
       "2         Puerto Castillo         Diving for shellfish   \n",
       "3          West of Dakhla  Swimming - jumped off yacht   \n",
       "4                Falmouth                 Spearfishing   \n",
       "\n",
       "                       Name Sex Age                                Injury  \\\n",
       "0  Roberto Carlose Bu Mejia   M  38  Back and thigh extensive tissue loss   \n",
       "1            Teddy Witteman   M  16                      Bite to left arm   \n",
       "2   Fernando Mendoza Ocampo   M  33                      Bite to left leg   \n",
       "3            German Tourist   F  30                           Leg severed   \n",
       "4              Jahmari Reid   M  16        Head right arm and leg severed   \n",
       "\n",
       "  Unnamed: 11    Time                  Species   \\\n",
       "0           N       ?                Bull shark   \n",
       "1           N       ?            Bull shark 6ft   \n",
       "2           N       ?          Bull shark 6-7ft   \n",
       "3           Y  1600hr  Reportedly a Great White   \n",
       "4           Y       ?    Reportedly Tiger Shark   \n",
       "\n",
       "                                             Source  pdf href formula href  \\\n",
       "0   Georgienne Bradley: Daily Mail UK: FTN News.com  NaN          NaN  NaN   \n",
       "1                  Todd SmithFlorida today: News 4:  NaN          NaN  NaN   \n",
       "2       Daily Mail UK: The Sun UK:  The World Watch  NaN          NaN  NaN   \n",
       "3        Andy Currie: Moroccan World News: Sky News  NaN          NaN  NaN   \n",
       "4  Todd Smith: Daily Mail UK: Sky News: People .com  NaN          NaN  NaN   \n",
       "\n",
       "  Case Number  \n",
       "0         NaN  \n",
       "1         NaN  \n",
       "2         NaN  \n",
       "3         NaN  \n",
       "4         NaN  "
      ]
     },
     "execution_count": 7,
     "metadata": {},
     "output_type": "execute_result"
    }
   ],
   "source": [
    "\n",
    "#Remove the last 2 Unnamed colmns \n",
    "shark_data =shark_data.drop(shark_data.columns[-1], axis = 1)\n",
    "shark_data =shark_data.drop(shark_data.columns[-1], axis = 1)\n",
    "shark_data.head()"
   ]
  },
  {
   "cell_type": "code",
   "execution_count": 29,
   "metadata": {
    "colab": {
     "base_uri": "https://localhost:8080/"
    },
    "executionInfo": {
     "elapsed": 229,
     "status": "ok",
     "timestamp": 1730727882055,
     "user": {
      "displayName": "Valentin Perraud",
      "userId": "01510183611310103751"
     },
     "user_tz": -60
    },
    "id": "8XAwrhgwau81",
    "outputId": "123b0968-2b48-4b41-b9ff-6ad444ee6a74"
   },
   "outputs": [
    {
     "data": {
      "text/plain": [
       "Index(['Date', 'Year', 'Type', 'Country', 'State', 'Location', 'Activity',\n",
       "       'Name', 'Sex', 'Age', 'Injury', 'Unnamed: 11', 'Time', 'Species ',\n",
       "       'Source', 'pdf', 'href formula', 'href', 'Case Number', 'Case Number.1',\n",
       "       'original order'],\n",
       "      dtype='object')"
      ]
     },
     "execution_count": 29,
     "metadata": {},
     "output_type": "execute_result"
    }
   ],
   "source": [
    "#Le't check the column names so we know what we can do\n",
    "shark_data_columns = shark_data.columns\n",
    "shark_data_columns"
   ]
  },
  {
   "cell_type": "code",
   "execution_count": 30,
   "metadata": {},
   "outputs": [],
   "source": [
    "#Let's remove the column 'Source', 'pdf', 'href formula', 'href', 'Case Number', 'Case Number.1' and 'original order' as we will not have any useful data\n",
    "shark_data = shark_data.drop('Source' ,axis=1)\n",
    "shark_data = shark_data.drop('pdf' ,axis=1)\n",
    "shark_data = shark_data.drop('href' ,axis=1)\n",
    "shark_data = shark_data.drop('href formula' ,axis=1)\n",
    "shark_data = shark_data.drop('Case Number',axis=1)\n",
    "shark_data = shark_data.drop('Case Number.1' ,axis=1)\n",
    "shark_data = shark_data.drop('original order',axis=1)"
   ]
  },
  {
   "cell_type": "code",
   "execution_count": 31,
   "metadata": {
    "colab": {
     "base_uri": "https://localhost:8080/",
     "height": 981
    },
    "executionInfo": {
     "elapsed": 276,
     "status": "ok",
     "timestamp": 1730728697534,
     "user": {
      "displayName": "Valentin Perraud",
      "userId": "01510183611310103751"
     },
     "user_tz": -60
    },
    "id": "Y0It7bN1dw9d",
    "outputId": "e64e1c20-2a75-4b83-95be-cd4e37b7490b"
   },
   "outputs": [
    {
     "data": {
      "text/plain": [
       "Index(['Date', 'Year', 'Type', 'Country', 'State', 'Location', 'Activity',\n",
       "       'Name', 'Sex', 'Age', 'Injury', 'Fatality', 'Time', 'Species '],\n",
       "      dtype='object')"
      ]
     },
     "execution_count": 31,
     "metadata": {},
     "output_type": "execute_result"
    }
   ],
   "source": [
    "#One column is still unnamed but all the Y match with a fatality\n",
    "shark_data.columns.values[11] = \"Fatality\"\n",
    "shark_data.columns"
   ]
  },
  {
   "cell_type": "code",
   "execution_count": 32,
   "metadata": {},
   "outputs": [
    {
     "data": {
      "text/plain": [
       "Date        object\n",
       "Year        object\n",
       "Type        object\n",
       "Country     object\n",
       "State       object\n",
       "Location    object\n",
       "Activity    object\n",
       "Name        object\n",
       "Sex         object\n",
       "Age         object\n",
       "Injury      object\n",
       "Fatality    object\n",
       "Time        object\n",
       "Species     object\n",
       "dtype: object"
      ]
     },
     "execution_count": 32,
     "metadata": {},
     "output_type": "execute_result"
    }
   ],
   "source": [
    "shark_data.dtypes"
   ]
  },
  {
   "cell_type": "markdown",
   "metadata": {},
   "source": [
    "Let's clean the year"
   ]
  },
  {
   "cell_type": "code",
   "execution_count": 23,
   "metadata": {},
   "outputs": [
    {
     "data": {
      "text/plain": [
       "0       2024\n",
       "1       2024\n",
       "2       2024\n",
       "3       2024\n",
       "4       2024\n",
       "        ... \n",
       "6968       0\n",
       "6969       0\n",
       "6970       0\n",
       "6971       0\n",
       "6972       0\n",
       "Name: Year, Length: 6973, dtype: Int64"
      ]
     },
     "execution_count": 23,
     "metadata": {},
     "output_type": "execute_result"
    }
   ],
   "source": [
    "#Convert year to int\n",
    "shark_data[\"Year\"] = pd.to_numeric(shark_data[\"Year\"], errors='coerce').astype('Int64')\n",
    "shark_data[\"Year\"]"
   ]
  },
  {
   "cell_type": "code",
   "execution_count": null,
   "metadata": {},
   "outputs": [
    {
     "data": {
      "text/plain": [
       "<bound method IndexOpsMixin.value_counts of 0       2024\n",
       "1       2024\n",
       "2       2024\n",
       "3       2024\n",
       "4       2024\n",
       "        ... \n",
       "6968    0000\n",
       "6969    0000\n",
       "6970    0000\n",
       "6971    0000\n",
       "6972    0000\n",
       "Name: Year, Length: 6973, dtype: object>"
      ]
     },
     "metadata": {},
     "output_type": "display_data"
    }
   ],
   "source": [
    "year_counts = shark_data['Year'].value_counts()\n",
    "print(year_counts)"
   ]
  },
  {
   "cell_type": "markdown",
   "metadata": {},
   "source": [
    "Let'change all the str in 0 and count the number of 0"
   ]
  },
  {
   "cell_type": "code",
   "execution_count": 8,
   "metadata": {},
   "outputs": [
    {
     "data": {
      "text/plain": [
       "array(['38', '16', '33', '30', '15', '23', '41', '14', '26', 'Middle age',\n",
       "       '18', '21', nan, '45', '46', '19', '27', '20', '65', '64', '24',\n",
       "       '?', '13', '11', '32', '29', '10', '62', '39', '22', '66', '52',\n",
       "       '44', '47', '55', '59', '8', '50', '34', '30s', '37', '9', '20/30',\n",
       "       '35', '20s', '77', '60', '49', '42', '!2', '73', '25', '50s', '58',\n",
       "       '67', '17', '6', '53', '68', '43', '40', '51', '31', '28', '40s',\n",
       "       'teen', '56', 'Teen', '12', '36', 'M', '57', '!6', '!!', '7', '71',\n",
       "       '48', '54', '75', '45 and 15', '61', '70', '4', '63', '28 & 22',\n",
       "       '22, 57, 31', '60s', \"20's\", '74', '9 & 60', 'a minor', '69', '3',\n",
       "       '82', '72', '18 months', '28 & 26', '5', '86', '18 or 20',\n",
       "       '12 or 13', '46 & 34', '28, 23 & 30', 'Teens', '36 & 26',\n",
       "       '8 or 10', '84', '\\xa0 ', ' ', '30 or 36', '6½', '21 & ?',\n",
       "       '33 or 37', 'mid-30s', '23 & 20', ' 30', '7      &    31', ' 28',\n",
       "       '20?', \"60's\", '32 & 30', '16 to 18', '87', 'Elderly', 'mid-20s',\n",
       "       'Ca. 33', '74 ', '45 ', '21 or 26', '20 ', '>50', '18 to 22',\n",
       "       'adult', '9 & 12', '? & 19', '9 months', '25 to 35', '23 & 26',\n",
       "       '1', '(adult)', '33 & 37', '25 or 28', '37, 67, 35, 27,  ? & 27',\n",
       "       '21, 34,24 & 35', '30 & 32', '50 & 30', '17 & 35', 'X',\n",
       "       '\"middle-age\"', '13 or 18', '34 & 19', '33 & 26', '2 to 3 months',\n",
       "       'MAKE LINE GREEN', ' 43', '81', '\"young\"', '7 or 8', '78',\n",
       "       '17 & 16', 'F', 'Both 11', '9 or 10', 'young', '36 & 23', '  ',\n",
       "       'A.M.', '?    &   14', '10 or 12', '31 or 33', '2½', '13 or 14'],\n",
       "      dtype=object)"
      ]
     },
     "execution_count": 8,
     "metadata": {},
     "output_type": "execute_result"
    }
   ],
   "source": [
    "shark_data[\"Age\"].unique() #We can see a lot of str value"
   ]
  },
  {
   "cell_type": "code",
   "execution_count": 9,
   "metadata": {},
   "outputs": [
    {
     "data": {
      "text/plain": [
       "0       38\n",
       "1       16\n",
       "2       33\n",
       "3       30\n",
       "4       16\n",
       "        ..\n",
       "6968     0\n",
       "6969     0\n",
       "6970     0\n",
       "6971     0\n",
       "6972    15\n",
       "Name: Age, Length: 6973, dtype: int32"
      ]
     },
     "execution_count": 9,
     "metadata": {},
     "output_type": "execute_result"
    }
   ],
   "source": [
    "shark_data['Age']  = pd.to_numeric(shark_data['Age'] , errors=\"coerce\").fillna(0).astype(int)\n",
    "shark_data['Age']"
   ]
  },
  {
   "cell_type": "code",
   "execution_count": null,
   "metadata": {},
   "outputs": [],
   "source": [
    "top_10_ages = shark_data[shark_data['Age'] != 0]['Age'].value_counts().nlargest(10)\n",
    "top_10_ages\n",
    "#We can see it's mostly teen between 14 and 25"
   ]
  },
  {
   "cell_type": "code",
   "execution_count": null,
   "metadata": {},
   "outputs": [],
   "source": [
    "shark_data['Age'].hist(bins=100)"
   ]
  },
  {
   "cell_type": "markdown",
   "metadata": {},
   "source": [
    "Let's clean the type"
   ]
  },
  {
   "cell_type": "code",
   "execution_count": null,
   "metadata": {},
   "outputs": [],
   "source": [
    "shark_data['Type'].unique()"
   ]
  },
  {
   "cell_type": "markdown",
   "metadata": {},
   "source": [
    "Let's clean the Species"
   ]
  },
  {
   "cell_type": "code",
   "execution_count": 1,
   "metadata": {},
   "outputs": [
    {
     "ename": "NameError",
     "evalue": "name 'shark_data' is not defined",
     "output_type": "error",
     "traceback": [
      "\u001b[1;31m---------------------------------------------------------------------------\u001b[0m",
      "\u001b[1;31mNameError\u001b[0m                                 Traceback (most recent call last)",
      "Cell \u001b[1;32mIn[1], line 1\u001b[0m\n\u001b[1;32m----> 1\u001b[0m shark_data\u001b[38;5;241m.\u001b[39mcolumns\n",
      "\u001b[1;31mNameError\u001b[0m: name 'shark_data' is not defined"
     ]
    }
   ],
   "source": [
    "shark_data.columns\n",
    "#There is an extra space in Species"
   ]
  },
  {
   "cell_type": "code",
   "execution_count": null,
   "metadata": {},
   "outputs": [
    {
     "data": {
      "text/plain": [
       "0                     Bull shark\n",
       "1                 Bull shark 6ft\n",
       "2               Bull shark 6-7ft\n",
       "3       Reportedly a Great White\n",
       "4         Reportedly Tiger Shark\n",
       "                  ...           \n",
       "6968                           0\n",
       "6969                           0\n",
       "6970                           0\n",
       "6971                           0\n",
       "6972                           0\n",
       "Name: Species, Length: 6973, dtype: object"
      ]
     },
     "execution_count": 77,
     "metadata": {},
     "output_type": "execute_result"
    }
   ],
   "source": [
    "shark_data = shark_data.rename(columns={shark_data.columns[-1]: \"Species\"})\n",
    "shark_data[\"Species\"]"
   ]
  },
  {
   "cell_type": "code",
   "execution_count": null,
   "metadata": {},
   "outputs": [],
   "source": [
    "shark_data['Species'].unique()"
   ]
  },
  {
   "cell_type": "markdown",
   "metadata": {},
   "source": [
    "**Analysis**"
   ]
  },
  {
   "cell_type": "markdown",
   "metadata": {},
   "source": [
    "Let's do have a table of state/year to have a stat of our target by taking the 5 top countries for the last 10 years"
   ]
  },
  {
   "cell_type": "code",
   "execution_count": null,
   "metadata": {},
   "outputs": [],
   "source": [
    "year_counts = shark_data['Year'].value_counts()\n",
    "print(year_counts)"
   ]
  },
  {
   "cell_type": "code",
   "execution_count": null,
   "metadata": {},
   "outputs": [],
   "source": [
    "country_counts = shark_data['Country'].value_counts()\n",
    "print(country_counts)"
   ]
  },
  {
   "cell_type": "code",
   "execution_count": null,
   "metadata": {},
   "outputs": [],
   "source": [
    "top_10_countries = country_counts.nlargest(5)\n",
    "\n",
    "print(top_10_countries)"
   ]
  },
  {
   "cell_type": "code",
   "execution_count": null,
   "metadata": {},
   "outputs": [],
   "source": [
    "usa_counts = shark_data[shark_data['Country'] == 'USA']['Location'].value_counts()\n",
    "\n",
    "print(usa_counts)"
   ]
  },
  {
   "cell_type": "code",
   "execution_count": null,
   "metadata": {},
   "outputs": [],
   "source": [
    "#Volusia county (Florida) could be a good target as they are the top\n",
    "volusia_county_incidents= shark_data['Location'].str.contains('Volusia', case=False, na=False).sum()\n",
    "\n",
    "print('There were ',volusia_county_incidents, 'incidents in Volusia over the years')\n",
    "#Let's see which activity are done in that place"
   ]
  },
  {
   "cell_type": "code",
   "execution_count": null,
   "metadata": {},
   "outputs": [],
   "source": [
    "#I want to have a repartition of incident in Volusia over the year"
   ]
  },
  {
   "cell_type": "markdown",
   "metadata": {},
   "source": [
    "Let's look at the period of the attack to identify which season and weekend/weekday\n",
    "\n",
    "*Hypothesis 1: There are more shark attacks during the holidays and weekend as more people are out and can meet with shark so this could a danger for the turism reputation*\n",
    "\n",
    "*Hypothesis 2: Could be interesting to find a database of shark reproduction period to crosscheck*"
   ]
  },
  {
   "cell_type": "code",
   "execution_count": null,
   "metadata": {},
   "outputs": [],
   "source": [
    "#We need to use the 'Date' column\n",
    "shark_attack_hp1 =shark_attack[\"Date\"]\n",
    "shark_attack_hp1[\"Weekday\"] = shark_attack[\"Date\"].dt.weekday\n"
   ]
  },
  {
   "cell_type": "markdown",
   "metadata": {},
   "source": [
    "When we select a city we can look at the species that attack and crosscheck it with a database of endemic species of shark"
   ]
  },
  {
   "cell_type": "code",
   "execution_count": null,
   "metadata": {},
   "outputs": [],
   "source": [
    "#Top 10 Species\n",
    "species_counts = shark_data['Species'].value_counts()\n",
    "top_10_species = species_counts.nlargest(10)\n",
    "\n",
    "print(top_10_species)"
   ]
  }
 ],
 "metadata": {
  "colab": {
   "provenance": []
  },
  "kernelspec": {
   "display_name": "base",
   "language": "python",
   "name": "python3"
  },
  "language_info": {
   "codemirror_mode": {
    "name": "ipython",
    "version": 3
   },
   "file_extension": ".py",
   "mimetype": "text/x-python",
   "name": "python",
   "nbconvert_exporter": "python",
   "pygments_lexer": "ipython3",
   "version": "3.12.4"
  }
 },
 "nbformat": 4,
 "nbformat_minor": 0
}
